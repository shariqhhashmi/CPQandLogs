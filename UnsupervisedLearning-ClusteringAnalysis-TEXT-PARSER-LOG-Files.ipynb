{
 "cells": [
  {
   "cell_type": "markdown",
   "metadata": {},
   "source": [
    "# Unsupervised Learning - Clustering Analysis of Eloquence LOG File"
   ]
  },
  {
   "cell_type": "markdown",
   "metadata": {},
   "source": [
    "Attached are two data sets:\n",
    "\n",
    "1) QuoteData Spreadsheet (CRM data) outlining the quotes and quote lines with products being configured\n",
    "\n",
    "2) Engine Logs for Eloquence (10 application logs file).\n",
    "\n",
    "The candidate can use any tool of his/her choice or liking on their own laptop or ours and mine/profile the data and present insights on the data for both CPQ and Eloquence (both are proprietary software products) Specific areas could be:\n",
    "\n",
    "1) the type of Components Used, Processing Time, Documents Processed, Type of File, etc. for the Eloquence data and\n",
    "\n",
    "2) product and pricing on quote and quote lines; pricing related to account, contact, product for the CPQ related Quote Data\n",
    "\n",
    "In summary, we want the candidate to look at the two different sets of data and provide us with meaningful data insights and whatever other useful information that we could glean from the data. Though some may view the attached case study as preparation for a data reporting role, it is not. This case study is just one of the small tools (data analysis 101) that we utilize in determining the right candidate for the role. This is, in fact, a true data analyst/scientist role and will encompass a mix of strategy, advisory and implementation (though there will be business intelligence and analytics reporting for all cloud products as part of the job profile as well).\n",
    "\n",
    "Since the business mentions profiling, this seems to be a Clustering Analysis based on Unsupervised Learning Problem, and as there is no Target Variable present, this reinforces the Clustering Analysis Approach.\n",
    "\n",
    "1) Data dictionary not provided?\n",
    "\n",
    "2) The clusters will be formed based on the variables given in the business problem. ex.: Components Used from the Eloquence log file\n",
    "\n",
    "3) Data Standardization: convert prices of the products into percentages, so as to compare different products based on percent price.\n",
    "\n",
    "4) Scree plot: x= centers (centroids) y= WCSS (Within Cluster Sum of Square); then identify the bend or curve in Scree Plot\n",
    "\n",
    "5) Dimensionality Reduction PCA & LCA\n"
   ]
  },
  {
   "cell_type": "code",
   "execution_count": 1,
   "metadata": {},
   "outputs": [],
   "source": [
    "import pandas as pd\n",
    "import matplotlib.pyplot as plt\n",
    "import seaborn as sns\n",
    "import numpy as np\n",
    "import warnings \n",
    "warnings.filterwarnings('ignore')\n",
    "%matplotlib inline"
   ]
  },
  {
   "cell_type": "code",
   "execution_count": 2,
   "metadata": {},
   "outputs": [],
   "source": [
    "# Run multiple commands and get multiple outputs within a single cell\n",
    "from IPython.core.interactiveshell import InteractiveShell\n",
    "InteractiveShell.ast_node_interactivity = \"all\""
   ]
  },
  {
   "cell_type": "code",
   "execution_count": 3,
   "metadata": {},
   "outputs": [
    {
     "data": {
      "text/html": [
       "<div>\n",
       "<style scoped>\n",
       "    .dataframe tbody tr th:only-of-type {\n",
       "        vertical-align: middle;\n",
       "    }\n",
       "\n",
       "    .dataframe tbody tr th {\n",
       "        vertical-align: top;\n",
       "    }\n",
       "\n",
       "    .dataframe thead th {\n",
       "        text-align: right;\n",
       "    }\n",
       "</style>\n",
       "<table border=\"1\" class=\"dataframe\">\n",
       "  <thead>\n",
       "    <tr style=\"text-align: right;\">\n",
       "      <th></th>\n",
       "      <th>2015-05-22</th>\n",
       "      <th>15:13:36,003</th>\n",
       "      <th>DEBUG</th>\n",
       "      <th>[Engine_main_01]</th>\n",
       "      <th>[pool-2-thread-144]</th>\n",
       "      <th>[cincom.eloquence.Format.reader.CSSAXFormatterHandler] imageParameters.getImagesFolder() = C:\\Cincom Eloquence\\EngineServer\\Instances\\EloqInstance01\\images</th>\n",
       "      <th>Unnamed: 6</th>\n",
       "      <th>Unnamed: 7</th>\n",
       "      <th>Unnamed: 8</th>\n",
       "      <th>Unnamed: 9</th>\n",
       "      <th>Unnamed: 10</th>\n",
       "    </tr>\n",
       "  </thead>\n",
       "  <tbody>\n",
       "    <tr>\n",
       "      <th>0</th>\n",
       "      <td>NaN</td>\n",
       "      <td>NaN</td>\n",
       "      <td>NaN</td>\n",
       "      <td>NaN</td>\n",
       "      <td>NaN</td>\n",
       "      <td>NaN</td>\n",
       "      <td>NaN</td>\n",
       "      <td>NaN</td>\n",
       "      <td>NaN</td>\n",
       "      <td>NaN</td>\n",
       "      <td>NaN</td>\n",
       "    </tr>\n",
       "    <tr>\n",
       "      <th>1</th>\n",
       "      <td>2015-05-22</td>\n",
       "      <td>15:13:36,009</td>\n",
       "      <td>DEBUG</td>\n",
       "      <td>[Engine_main_01]</td>\n",
       "      <td>[pool-2-thread-144]</td>\n",
       "      <td>[cincom.eloquence.Format.reader.CSSAXFormatter...</td>\n",
       "      <td>NaN</td>\n",
       "      <td>NaN</td>\n",
       "      <td>NaN</td>\n",
       "      <td>NaN</td>\n",
       "      <td>NaN</td>\n",
       "    </tr>\n",
       "    <tr>\n",
       "      <th>2</th>\n",
       "      <td>NaN</td>\n",
       "      <td>NaN</td>\n",
       "      <td>NaN</td>\n",
       "      <td>NaN</td>\n",
       "      <td>NaN</td>\n",
       "      <td>NaN</td>\n",
       "      <td>NaN</td>\n",
       "      <td>NaN</td>\n",
       "      <td>NaN</td>\n",
       "      <td>NaN</td>\n",
       "      <td>NaN</td>\n",
       "    </tr>\n",
       "    <tr>\n",
       "      <th>3</th>\n",
       "      <td>2015-05-22</td>\n",
       "      <td>15:13:36,011</td>\n",
       "      <td>DEBUG</td>\n",
       "      <td>[Engine_main_01]</td>\n",
       "      <td>[pool-2-thread-144]</td>\n",
       "      <td>[cincom.eloquence.Format.reader.CSSAXFormatter...</td>\n",
       "      <td>NaN</td>\n",
       "      <td>NaN</td>\n",
       "      <td>NaN</td>\n",
       "      <td>NaN</td>\n",
       "      <td>NaN</td>\n",
       "    </tr>\n",
       "    <tr>\n",
       "      <th>4</th>\n",
       "      <td>NaN</td>\n",
       "      <td>NaN</td>\n",
       "      <td>NaN</td>\n",
       "      <td>NaN</td>\n",
       "      <td>NaN</td>\n",
       "      <td>NaN</td>\n",
       "      <td>NaN</td>\n",
       "      <td>NaN</td>\n",
       "      <td>NaN</td>\n",
       "      <td>NaN</td>\n",
       "      <td>NaN</td>\n",
       "    </tr>\n",
       "  </tbody>\n",
       "</table>\n",
       "</div>"
      ],
      "text/plain": [
       "   2015-05-22  15:13:36,003  DEBUG  [Engine_main_01]  [pool-2-thread-144]  \\\n",
       "0         NaN           NaN    NaN               NaN                  NaN   \n",
       "1  2015-05-22  15:13:36,009  DEBUG  [Engine_main_01]  [pool-2-thread-144]   \n",
       "2         NaN           NaN    NaN               NaN                  NaN   \n",
       "3  2015-05-22  15:13:36,011  DEBUG  [Engine_main_01]  [pool-2-thread-144]   \n",
       "4         NaN           NaN    NaN               NaN                  NaN   \n",
       "\n",
       "  [cincom.eloquence.Format.reader.CSSAXFormatterHandler] imageParameters.getImagesFolder() = C:\\Cincom Eloquence\\EngineServer\\Instances\\EloqInstance01\\images  \\\n",
       "0                                                NaN                                                                                                            \n",
       "1  [cincom.eloquence.Format.reader.CSSAXFormatter...                                                                                                            \n",
       "2                                                NaN                                                                                                            \n",
       "3  [cincom.eloquence.Format.reader.CSSAXFormatter...                                                                                                            \n",
       "4                                                NaN                                                                                                            \n",
       "\n",
       "  Unnamed: 6 Unnamed: 7 Unnamed: 8 Unnamed: 9 Unnamed: 10  \n",
       "0        NaN        NaN        NaN        NaN         NaN  \n",
       "1        NaN        NaN        NaN        NaN         NaN  \n",
       "2        NaN        NaN        NaN        NaN         NaN  \n",
       "3        NaN        NaN        NaN        NaN         NaN  \n",
       "4        NaN        NaN        NaN        NaN         NaN  "
      ]
     },
     "execution_count": 3,
     "metadata": {},
     "output_type": "execute_result"
    }
   ],
   "source": [
    "logdf = pd.read_fwf('Engine_main_01.log.txt')\n",
    "logdf.head()"
   ]
  },
  {
   "cell_type": "code",
   "execution_count": 5,
   "metadata": {},
   "outputs": [
    {
     "data": {
      "text/plain": [
       "(64258, 11)"
      ]
     },
     "execution_count": 5,
     "metadata": {},
     "output_type": "execute_result"
    }
   ],
   "source": [
    "logdf.shape"
   ]
  },
  {
   "cell_type": "markdown",
   "metadata": {},
   "source": [
    "## Parsing Text using REGULAR EXPRESSION - re"
   ]
  },
  {
   "cell_type": "markdown",
   "metadata": {},
   "source": [
    "<b> Step 1: Understand the input format </b>"
   ]
  },
  {
   "cell_type": "code",
   "execution_count": null,
   "metadata": {},
   "outputs": [],
   "source": [
    "# use: with open() as file: function to acess files\n"
   ]
  },
  {
   "cell_type": "markdown",
   "metadata": {},
   "source": [
    "<b> Step 2: Import the required packages </b>"
   ]
  },
  {
   "cell_type": "code",
   "execution_count": 1,
   "metadata": {},
   "outputs": [],
   "source": [
    "# import REGULAR EXPRESSION package\n",
    "import re"
   ]
  },
  {
   "cell_type": "markdown",
   "metadata": {},
   "source": [
    "<b> Step 3: Define regular expressions </b>"
   ]
  },
  {
   "cell_type": "code",
   "execution_count": 6,
   "metadata": {},
   "outputs": [],
   "source": [
    "# catch_phrases = [\"component\", \"documents>\", \"FileType\"]\n",
    "rx_dict = {\n",
    "    'component': re.compile(r'component = (?P<component>.*)\\n'),\n",
    "    'document': re.compile(r'document = (?P<document>.*)\\n'),\n",
    "    'FileType': re.compile(r'FileType = (?P<FileType>.*)\\n'),\n",
    "}"
   ]
  },
  {
   "cell_type": "markdown",
   "metadata": {},
   "source": [
    "<b> Step 4: Write a line parser </b>"
   ]
  },
  {
   "cell_type": "code",
   "execution_count": 7,
   "metadata": {},
   "outputs": [],
   "source": [
    "def _parse_line(line):\n",
    "\n",
    "    for key, rx in rx_dict.items():\n",
    "        match = rx.search(line)\n",
    "        if match:\n",
    "            return key, match\n",
    "    # if there are no matches\n",
    "    return None, None"
   ]
  },
  {
   "cell_type": "markdown",
   "metadata": {},
   "source": [
    "<b> Step 5: Write a file parser </b>"
   ]
  },
  {
   "cell_type": "code",
   "execution_count": null,
   "metadata": {},
   "outputs": [],
   "source": [
    "data = []  # create an empty list to collect the data\n",
    "# open the file and read through it line by line\n",
    "with open('Engine_main_01.log.txt', 'r') as file_object:\n",
    "    line = file_object.readline()\n",
    "while line:\n",
    "# at each line check for a match with a regex\n",
    "    key, match = _parse_line(line)\n",
    "\n",
    "# extract component name\n",
    "if key == 'component':\n",
    "    component = match.group('component')\n",
    "\n",
    "# extract document\n",
    "if key == 'document':\n",
    "    document = match.group('document')\n",
    "\n",
    "# extract FileType\n",
    "if key == 'FileType':\n",
    "    FileType = match.group('FileType')\n",
    "\n",
    "    # read each line of the table until a blank line\n",
    "    while line.strip():\n",
    "        # extract number and value\n",
    "        number, value = line.strip().split(',')\n",
    "        value = value.strip()\n",
    "        # create a dictionary containing this row of data\n",
    "        row = {\n",
    "            'component': component,\n",
    "            'document': document,\n",
    "            'FileType': FileType                        \n",
    "        }\n",
    "        # append the dictionary to the data list\n",
    "        data.append(row)\n",
    "        line = file_object.readline()\n",
    "\n",
    "line = file_object.readline()\n",
    "\n",
    "# create a pandas DataFrame from the list of dicts\n",
    "data = pd.DataFrame(data)\n",
    "# set the component, document, FileType as the index\n",
    "data.set_index(['component', 'document', 'FileType'], inplace=True)\n",
    "# consolidate df to remove nans\n",
    "data = data.groupby(level=data.index.names).first()\n",
    "# upgrade Score from float to integer\n",
    "data = data.apply(pd.to_numeric, errors='ignore')\n",
    "return data"
   ]
  },
  {
   "cell_type": "markdown",
   "metadata": {},
   "source": [
    "<b> Step 6: Test the parser </b>"
   ]
  }
 ],
 "metadata": {
  "kernelspec": {
   "display_name": "Python 3",
   "language": "python",
   "name": "python3"
  },
  "language_info": {
   "codemirror_mode": {
    "name": "ipython",
    "version": 3
   },
   "file_extension": ".py",
   "mimetype": "text/x-python",
   "name": "python",
   "nbconvert_exporter": "python",
   "pygments_lexer": "ipython3",
   "version": "3.7.4"
  }
 },
 "nbformat": 4,
 "nbformat_minor": 2
}
